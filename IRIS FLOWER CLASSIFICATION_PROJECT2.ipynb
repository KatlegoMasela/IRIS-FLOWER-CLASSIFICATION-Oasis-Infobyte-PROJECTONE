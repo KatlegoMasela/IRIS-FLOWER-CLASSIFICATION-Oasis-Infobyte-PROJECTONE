{
 "cells": [
  {
   "cell_type": "markdown",
   "id": "a0e38c60",
   "metadata": {},
   "source": [
    "# IRIS FLOWER CLASSIFICATION_PROJECT"
   ]
  },
  {
   "cell_type": "markdown",
   "id": "c46dcbb0",
   "metadata": {},
   "source": [
    "In our task is to train a machine learning model that can learn from the measurements of the species and classify them.\n",
    "\n",
    "Iris flower has three species; setosa, versicolar, and viginia, which differs according to theier measurements."
   ]
  },
  {
   "cell_type": "markdown",
   "id": "a31aad8b",
   "metadata": {},
   "source": [
    "STEPS FOLLOWED TO COMPLETE FOLLOWING PROJECT:\n",
    "    \n",
    "1. Read the Data:\n",
    "   Loaded the dataset, identified the structure of data, including the numbers\n",
    "   of samples, features and target variable.\n",
    "        \n",
    "2. Cleaning the Data: \n",
    "   Indentified and handled missing values and duplicates in the Iris dataset.\n",
    "    \n",
    "3. Exploratory Data Analysis(EDA): \n",
    "   Visualised the distribution of each feature, \n",
    "   explored the pairwise relationships between features.\n",
    "  \n",
    "  \n",
    "4. Prepocess the Data:\n",
    "   Performed feature scaling.\n",
    "    \n",
    "5. Split the Data into Training and Testing Sets:\n",
    "   Split the dataset to into training and testing sets to evaluate the model's\n",
    "   perfomance.\n",
    "        \n",
    "6. Train and Evaluate the Model:\n",
    "   Trained logistic regression and decision tree models and evaluted each          Model's perfomance using appropicate evaluation metrics such as accuracy,      precision, F1-score, and confusion matrix.\n",
    "    \n",
    "7. Interpret the Results: \n",
    "   Analyzed the model's perfomance and understood its strengths and weaknesses.\n",
    "   Checked which features are most influencial for Iris classification.\n",
    "        \n",
    "        "
   ]
  },
  {
   "cell_type": "code",
   "execution_count": 163,
   "id": "682d9c50",
   "metadata": {},
   "outputs": [],
   "source": [
    "#Importing libraries"
   ]
  },
  {
   "cell_type": "code",
   "execution_count": 212,
   "id": "8f8bb145",
   "metadata": {},
   "outputs": [],
   "source": [
    "import pandas as pd\n",
    "import numpy as np\n",
    "import matplotlib.pyplot as plt\n",
    "import seaborn as sns\n",
    "\n",
    "from sklearn.model_selection import train_test_split\n",
    "from sklearn.linear_model import LogisticRegression\n",
    "from sklearn.tree import DecisionTreeRegressor"
   ]
  },
  {
   "cell_type": "code",
   "execution_count": 213,
   "id": "83592827",
   "metadata": {},
   "outputs": [],
   "source": [
    "#Load(read) the dataset\n",
    "iris = pd.read_csv('Iris.csv')"
   ]
  },
  {
   "cell_type": "code",
   "execution_count": 214,
   "id": "6172375b",
   "metadata": {},
   "outputs": [
    {
     "name": "stdout",
     "output_type": "stream",
     "text": [
      "<class 'pandas.core.frame.DataFrame'>\n",
      "RangeIndex: 150 entries, 0 to 149\n",
      "Data columns (total 5 columns):\n",
      " #   Column        Non-Null Count  Dtype  \n",
      "---  ------        --------------  -----  \n",
      " 0   sepal_length  150 non-null    float64\n",
      " 1   sepal_width   150 non-null    float64\n",
      " 2   petal_length  150 non-null    float64\n",
      " 3   petal_width   150 non-null    float64\n",
      " 4   species       150 non-null    object \n",
      "dtypes: float64(4), object(1)\n",
      "memory usage: 6.0+ KB\n",
      "None\n"
     ]
    }
   ],
   "source": [
    "print(iris.info())"
   ]
  },
  {
   "cell_type": "code",
   "execution_count": 215,
   "id": "f2aa461f",
   "metadata": {},
   "outputs": [
    {
     "name": "stdout",
     "output_type": "stream",
     "text": [
      "   sepal_length  sepal_width  petal_length  petal_width      species\n",
      "0           5.1          3.5           1.4          0.2  Iris-setosa\n",
      "1           4.9          3.0           1.4          0.2  Iris-setosa\n",
      "2           4.7          3.2           1.3          0.2  Iris-setosa\n",
      "3           4.6          3.1           1.5          0.2  Iris-setosa\n",
      "4           5.0          3.6           1.4          0.2  Iris-setosa\n",
      "5           5.4          3.9           1.7          0.4  Iris-setosa\n",
      "6           4.6          3.4           1.4          0.3  Iris-setosa\n",
      "7           5.0          3.4           1.5          0.2  Iris-setosa\n",
      "8           4.4          2.9           1.4          0.2  Iris-setosa\n",
      "9           4.9          3.1           1.5          0.1  Iris-setosa\n"
     ]
    }
   ],
   "source": [
    "print(iris.head(10))"
   ]
  },
  {
   "cell_type": "code",
   "execution_count": 216,
   "id": "d05e0a49",
   "metadata": {},
   "outputs": [
    {
     "name": "stdout",
     "output_type": "stream",
     "text": [
      "       sepal_length  sepal_width  petal_length  petal_width\n",
      "count    150.000000   150.000000    150.000000   150.000000\n",
      "mean       5.843333     3.054000      3.758667     1.198667\n",
      "std        0.828066     0.433594      1.764420     0.763161\n",
      "min        4.300000     2.000000      1.000000     0.100000\n",
      "25%        5.100000     2.800000      1.600000     0.300000\n",
      "50%        5.800000     3.000000      4.350000     1.300000\n",
      "75%        6.400000     3.300000      5.100000     1.800000\n",
      "max        7.900000     4.400000      6.900000     2.500000\n"
     ]
    }
   ],
   "source": [
    "print(iris.describe())"
   ]
  },
  {
   "cell_type": "code",
   "execution_count": 217,
   "id": "8e469392",
   "metadata": {},
   "outputs": [
    {
     "data": {
      "text/plain": [
       "3"
      ]
     },
     "execution_count": 217,
     "metadata": {},
     "output_type": "execute_result"
    }
   ],
   "source": [
    "#Identifying and Handling(removing) duplicates\n",
    "iris.duplicated().sum()"
   ]
  },
  {
   "cell_type": "markdown",
   "id": "53425606",
   "metadata": {},
   "source": [
    "IDENTIFYING AND HANDLING MISSING DATA"
   ]
  },
  {
   "cell_type": "code",
   "execution_count": 218,
   "id": "8f2e9859",
   "metadata": {},
   "outputs": [
    {
     "data": {
      "text/plain": [
       "sepal_length    0\n",
       "sepal_width     0\n",
       "petal_length    0\n",
       "petal_width     0\n",
       "species         0\n",
       "dtype: int64"
      ]
     },
     "execution_count": 218,
     "metadata": {},
     "output_type": "execute_result"
    }
   ],
   "source": [
    "iris.isnull().sum()"
   ]
  },
  {
   "cell_type": "markdown",
   "id": "2a5e3ec0",
   "metadata": {},
   "source": [
    "IDENTIFYING AND REMOVING DUPLICATES"
   ]
  },
  {
   "cell_type": "code",
   "execution_count": 219,
   "id": "3ad361c7",
   "metadata": {},
   "outputs": [
    {
     "data": {
      "text/plain": [
       "3"
      ]
     },
     "execution_count": 219,
     "metadata": {},
     "output_type": "execute_result"
    }
   ],
   "source": [
    "iris.duplicated().sum()"
   ]
  },
  {
   "cell_type": "code",
   "execution_count": null,
   "id": "081a9a8a",
   "metadata": {},
   "outputs": [],
   "source": [
    "iris.drop_duplicates(inplace=True)"
   ]
  },
  {
   "cell_type": "markdown",
   "id": "8fc31c98",
   "metadata": {},
   "source": [
    "# EXPLORATORY DATA ANALYSIS"
   ]
  },
  {
   "cell_type": "code",
   "execution_count": null,
   "id": "35bbdbb8",
   "metadata": {},
   "outputs": [
    {
     "data": {
      "text/plain": [
       "<function matplotlib.pyplot.show(close=None, block=None)>"
      ]
     },
     "execution_count": 221,
     "metadata": {},
     "output_type": "execute_result"
    },
    {
     "data": {
      "image/png": "[encoded data removed]",
      "text/plain": [
       "<Figure size 640x480 with 2 Axes>"
      ]
     },
     "metadata": {},
     "output_type": "display_data"
    }
   ],
   "source": [
    "#Heatmap of the missing values\n",
    "sns.heatmap(iris.isnull().sum().to_frame().T, cmap='coolwarm', annot= True)\n",
    "plt.show"
   ]
  },
  {
   "cell_type": "code",
   "execution_count": null,
   "id": "17b69902",
   "metadata": {},
   "outputs": [
    {
     "data": {
      "image/png": "[encoded data removed]",
      "text/plain": [
       "<Figure size 1300x800 with 4 Axes>"
      ]
     },
     "metadata": {},
     "output_type": "display_data"
    }
   ],
   "source": [
    "import matplotlib.pyplot as plt\n",
    "iris.hist(figsize= (17,5))\n",
    "plt.show()"
   ]
  },
  {
   "cell_type": "markdown",
   "id": "879698db",
   "metadata": {},
   "source": [
    "Visualizing the relationship between the Iris flower sepal_length and sepal_width."
   ]
  },
  {
   "cell_type": "code",
   "execution_count": null,
   "id": "781c7bf2",
   "metadata": {},
   "outputs": [
    {
     "data": {
      "image/png": "[encoded data removed]",
      "text/plain": [
       "<Figure size 640x480 with 1 Axes>"
      ]
     },
     "metadata": {},
     "output_type": "display_data"
    }
   ],
   "source": [
    "import seaborn as sns\n",
    "\n",
    "sns.scatterplot(data=iris, x=\"sepal_width\", y=\"sepal_length\")\n",
    "plt.title(\"\\nRelationship between the Iris flower sepal_length and sepal_width.\")\n",
    "plt.show()"
   ]
  },
  {
   "cell_type": "markdown",
   "id": "f858b63a",
   "metadata": {},
   "source": [
    "Visualizing the relationship between the Iris flower petal_length and petal_width."
   ]
  },
  {
   "cell_type": "code",
   "execution_count": null,
   "id": "1faf6b94",
   "metadata": {},
   "outputs": [
    {
     "data": {
      "image/png": "[encoded data removed]",
      "text/plain": [
       "<Figure size 640x480 with 1 Axes>"
      ]
     },
     "metadata": {},
     "output_type": "display_data"
    }
   ],
   "source": [
    "sns.barplot(data=iris, x=\"sepal_width\", y=\"sepal_length\")\n",
    "plt.title(\"Relationship between the Iris flower petal_length and petal_width.\")\n",
    "plt.show()"
   ]
  },
  {
   "cell_type": "markdown",
   "id": "8efddd2b",
   "metadata": {},
   "source": [
    "# MACHINE LEARNING MODELING:"
   ]
  },
  {
   "cell_type": "markdown",
   "id": "200a696f",
   "metadata": {},
   "source": [
    "TARGET VARIABLE"
   ]
  },
  {
   "cell_type": "code",
   "execution_count": null,
   "id": "724993cc",
   "metadata": {},
   "outputs": [],
   "source": [
    "X = iris.drop('species', axis=1)\n",
    "y = iris['species']"
   ]
  },
  {
   "cell_type": "markdown",
   "id": "37b5abf2",
   "metadata": {},
   "source": [
    "SPLITTING THE DATA INTO TRAINING AND TESTING SETS"
   ]
  },
  {
   "cell_type": "code",
   "execution_count": null,
   "id": "8156182a",
   "metadata": {},
   "outputs": [],
   "source": [
    "#split the data into training and testing sets\n",
    "X_train, X_test, y_train, y_test = train_test_split(X, y, test_size=0.2, random_state=42)"
   ]
  },
  {
   "cell_type": "markdown",
   "id": "c12ef2dc",
   "metadata": {},
   "source": [
    "TRAINING THE MODEL:"
   ]
  },
  {
   "cell_type": "markdown",
   "id": "4cd13a04",
   "metadata": {},
   "source": [
    "I am going to train 2 Machine learning Models:\n",
    "    \n",
    "1. Logistic Regression Model\n",
    "2. DecisionTreeRegressor Model"
   ]
  },
  {
   "cell_type": "markdown",
   "id": "2c815697",
   "metadata": {},
   "source": [
    "# Logistic Regression Model"
   ]
  },
  {
   "cell_type": "code",
   "execution_count": null,
   "id": "429d5a99",
   "metadata": {},
   "outputs": [],
   "source": [
    "#Traing a logistic regression model\n",
    "lg = LogisticRegression()\n",
    "lg.fit(X_train, y_train)\n",
    "\n",
    "#predict\n",
    "y_pred = lg.predict(X_test)"
   ]
  },
  {
   "cell_type": "code",
   "execution_count": null,
   "id": "155b1958",
   "metadata": {},
   "outputs": [
    {
     "name": "stdout",
     "output_type": "stream",
     "text": [
      "Evaluation Metrics for Logistic Regression Model:\n",
      "Accuracy: 0.9333333333333333\n",
      "Precision: 0.9296296296296296\n",
      "Recall: 0.9296296296296296\n",
      "F1-score: 0.9296296296296296\n",
      "Confusion Matrix:\n",
      "[[11  0  0]\n",
      " [ 0  9  1]\n",
      " [ 0  1  8]]\n"
     ]
    }
   ],
   "source": [
    "from sklearn.metrics import accuracy_score, precision_score, recall_score, f1_score, confusion_matrix\n",
    "\n",
    "#Evaluaton metrics\n",
    "accuracy = accuracy_score(y_test, y_pred)\n",
    "precision = precision_score(y_test, y_pred, average='macro')\n",
    "recall = recall_score(y_test, y_pred, average='macro')\n",
    "f1 = f1_score(y_test, y_pred, average='macro')\n",
    "confusion_matrix = confusion_matrix(y_test, y_pred)\n",
    "\n",
    "print(\"Evaluation Metrics for Logistic Regression Model:\")\n",
    "print(f\"Accuracy: {accuracy}\")\n",
    "print(f\"Precision: {precision}\")\n",
    "print(f\"Recall: {recall}\")\n",
    "print(f\"F1-score: {f1}\")\n",
    "print(\"Confusion Matrix:\")\n",
    "print(confusion_matrix)"
   ]
  },
  {
   "cell_type": "raw",
   "id": "a54b00f4",
   "metadata": {},
   "source": [
    "Prediction:"
   ]
  },
  {
   "cell_type": "code",
   "execution_count": null,
   "id": "4b0dc909",
   "metadata": {},
   "outputs": [
    {
     "name": "stdout",
     "output_type": "stream",
     "text": [
      "Prediction: ['Iris-versicolor']\n"
     ]
    },
    {
     "name": "stderr",
     "output_type": "stream",
     "text": [
      "C:\\Users\\masel\\OneDrive\\Desktop\\New folder\\Lib\\site-packages\\sklearn\\base.py:464: UserWarning: X does not have valid feature names, but LogisticRegression was fitted with feature names\n",
      "  warnings.warn(\n"
     ]
    }
   ],
   "source": [
    "#Reshape the input data to make it 2-dimensional\n",
    "iris = np.array([9, 3.9, 2, 0.9]).reshape(1, -1)\n",
    "iris = lg.predict(iris)\n",
    "print(\"Prediction: {}\".format(iris))"
   ]
  },
  {
   "cell_type": "markdown",
   "id": "09735697",
   "metadata": {},
   "source": [
    "# DecisionTreeRegressor Model"
   ]
  },
  {
   "cell_type": "code",
   "execution_count": null,
   "id": "f74a6690",
   "metadata": {},
   "outputs": [
    {
     "name": "stdout",
     "output_type": "stream",
     "text": [
      "Encoded Target Variable (y_train_encoded):\n",
      "[2 0 2 0 0 2 2 2 0 0 0 2 1 2 1 1 2 2 0 1 1 0 0 1 0 0 0 2 1 2 0 0 2 0 1 2 0\n",
      " 1 2 0 1 2 1 2 1 1 0 2 1 1 0 1 1 0 2 0 0 1 1 1 2 2 1 0 0 2 2 0 0 0 1 2 0 2\n",
      " 2 0 1 1 2 1 2 0 2 1 2 1 1 1 0 1 1 1 1 2 0 1 1 0 2 0 2 0 1 2 2 2 2 1 1 2 2\n",
      " 0 1 2 0 1 2]\n"
     ]
    }
   ],
   "source": [
    "from sklearn.preprocessing import LabelEncoder\n",
    "\n",
    "# Initialize LabelEncoder\n",
    "label_encoder = LabelEncoder()\n",
    "\n",
    "# Encode the target variable\n",
    "y_train_encoded = label_encoder.fit_transform(y_train)\n",
    "\n",
    "# Train the decision tree regressor\n",
    "dtr.fit(X_train, y_train_encoded)\n",
    "\n",
    "# Display the dataset after encoding the target variable\n",
    "print(\"Encoded Target Variable (y_train_encoded):\")\n",
    "print(y_train_encoded)"
   ]
  },
  {
   "cell_type": "code",
   "execution_count": null,
   "id": "35a7cebe",
   "metadata": {},
   "outputs": [],
   "source": [
    "#Traing a logistic regression model\n",
    "dtr = DecisionTreeRegressor()\n",
    "# Train the decision tree regressor\n",
    "dtr.fit(X_train, y_train_encoded)\n",
    "\n",
    "# Predict\n",
    "y_pred = dtr.predict(X_test)"
   ]
  },
  {
   "cell_type": "code",
   "execution_count": null,
   "id": "3d5d0733",
   "metadata": {},
   "outputs": [
    {
     "name": "stdout",
     "output_type": "stream",
     "text": [
      "Evaluation Metrics for Decision Tree Regression Model:\n",
      "Accuracy: 0.9666666666666667\n",
      "Precision: 0.9666666666666667\n",
      "Recall: 0.9666666666666667\n",
      "F1-score: 0.9649122807017544\n",
      "Confusion Matrix:\n",
      "[[11  0  0]\n",
      " [ 0  9  1]\n",
      " [ 0  0  9]]\n"
     ]
    }
   ],
   "source": [
    "from sklearn.metrics import accuracy_score, precision_score, recall_score, f1_score, confusion_matrix\n",
    "\n",
    "# Convert numerical predictions back to string labels\n",
    "y_pred_labels = label_encoder.inverse_transform(y_pred.astype(int))\n",
    "\n",
    "# Compute evaluation metrics\n",
    "accuracy = accuracy_score(y_test, y_pred_labels)\n",
    "precision = precision_score(y_test, y_pred_labels, average='macro')\n",
    "recall = recall_score(y_test, y_pred_labels, average='macro')\n",
    "f1 = f1_score(y_test, y_pred_labels, average='macro')\n",
    "conf_matrix = confusion_matrix(y_test, y_pred_labels)\n",
    "\n",
    "# Print evaluation metrics\n",
    "print(\"Evaluation Metrics for Decision Tree Regression Model:\")\n",
    "print(f\"Accuracy: {accuracy}\")\n",
    "print(f\"Precision: {precision}\")\n",
    "print(f\"Recall: {recall}\")\n",
    "print(f\"F1-score: {f1}\")\n",
    "print(\"Confusion Matrix:\")\n",
    "print(conf_matrix)"
   ]
  },
  {
   "cell_type": "raw",
   "id": "8e223541",
   "metadata": {},
   "source": [
    "Prediction:"
   ]
  },
  {
   "cell_type": "code",
   "execution_count": null,
   "id": "8def541b",
   "metadata": {},
   "outputs": [
    {
     "name": "stdout",
     "output_type": "stream",
     "text": [
      "Prediction: [1.]\n"
     ]
    },
    {
     "name": "stderr",
     "output_type": "stream",
     "text": [
      "C:\\Users\\masel\\OneDrive\\Desktop\\New folder\\Lib\\site-packages\\sklearn\\base.py:464: UserWarning: X does not have valid feature names, but DecisionTreeRegressor was fitted with feature names\n",
      "  warnings.warn(\n"
     ]
    }
   ],
   "source": [
    "iris = np.array([9, 3.9, 2, 0.9]).reshape(1, -1)\n",
    "\n",
    "#Predict\n",
    "prediction = dtr.predict(iris)\n",
    "\n",
    "print(\"Prediction: {}\".format(prediction))\n",
    "\n",
    "print(\"Prediction:{}\".format(prediction))\n"
   ]
  },
  {
   "cell_type": "markdown",
   "id": "ce5e5c56",
   "metadata": {},
   "source": [
    "INTERPRETING THE MODELS RESULTS:"
   ]
  },
  {
   "cell_type": "markdown",
   "id": "6e1b343c",
   "metadata": {},
   "source": [
    "Influential features on Iris Classification."
   ]
  },
  {
   "cell_type": "code",
   "execution_count": null,
   "id": "26f7befd",
   "metadata": {},
   "outputs": [
    {
     "name": "stdout",
     "output_type": "stream",
     "text": [
      "\n",
      "Features that are most important for iris flower classification:\n",
      "petal_length   -2.392774\n",
      "petal_width    -0.947798\n",
      "sepal_length   -0.500379\n",
      "sepal_width     0.834276\n",
      "dtype: float64\n"
     ]
    }
   ],
   "source": [
    "#extracting feature importances\n",
    "feature_importances = pd.Series(lg.coef_[0], index=X.columns).sort_values()\n",
    "\n",
    "#print the most influencial features for iris flower classification\n",
    "print(\"\\nFeatures that are most important for iris flower classification:\")\n",
    "print(feature_importances)"
   ]
  },
  {
   "cell_type": "markdown",
   "id": "410aa98b",
   "metadata": {},
   "source": [
    "COMPLETE!!!!"
   ]
  },
  {
   "cell_type": "code",
   "execution_count": null,
   "id": "2d6a121d",
   "metadata": {},
   "outputs": [],
   "source": []
  }
 ],
 "metadata": {
  "kernelspec": {
   "display_name": "Python 3 (ipykernel)",
   "language": "python",
   "name": "python3"
  },
  "language_info": {
   "codemirror_mode": {
    "name": "ipython",
    "version": 3
   },
   "file_extension": ".py",
   "mimetype": "text/x-python",
   "name": "python",
   "nbconvert_exporter": "python",
   "pygments_lexer": "ipython3",
   "version": "3.11.5"
  }
 },
 "nbformat": 4,
 "nbformat_minor": 5
}
